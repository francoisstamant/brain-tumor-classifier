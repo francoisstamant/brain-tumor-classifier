{
 "cells": [
  {
   "cell_type": "code",
   "execution_count": null,
   "metadata": {},
   "outputs": [],
   "source": [
    "import keras\n",
    "from keras.models import Sequential\n",
    "from keras.layers import Dense, Dropout, Flatten\n",
    "from keras.layers import Conv2D, MaxPooling2D, Conv3D, BatchNormalization, Activation\n",
    "from keras import backend as K\n",
    "import os\n",
    "from PIL import Image\n",
    "import numpy as np\n",
    "from sklearn.model_selection import train_test_split\n",
    "from sklearn.preprocessing import OneHotEncoder\n",
    "import matplotlib.pyplot as plt\n",
    "from matplotlib.pyplot import imshow\n",
    "import pandas as pd\n",
    "from keras.models import load_model"
   ]
  },
  {
   "cell_type": "code",
   "execution_count": null,
   "metadata": {},
   "outputs": [],
   "source": [
    "classes = os.listdir(r'C:\\Users\\st-am\\OneDrive\\Documents\\Data analytics\\CNN_cancer\\Training')"
   ]
  },
  {
   "cell_type": "code",
   "execution_count": null,
   "metadata": {},
   "outputs": [],
   "source": [
    "enc = OneHotEncoder()\n",
    "enc.fit([[0], [1], [2], [3]]) \n",
    "def names(number):\n",
    "    if(number == 0):\n",
    "        return classes[0]\n",
    "    elif(number == 1):\n",
    "        return classes[1]\n",
    "    elif(number == 2):\n",
    "        return classes[2]\n",
    "    elif(number == 3):\n",
    "        return classes[3]"
   ]
  },
  {
   "cell_type": "code",
   "execution_count": null,
   "metadata": {},
   "outputs": [],
   "source": [
    "trainData = []\n",
    "trainLabel = []\n",
    "dim = (150, 150)\n",
    "trainPath = (r\"C:\\Users\\st-am\\OneDrive\\Documents\\Data analytics\\CNN_cancer\\Training\")\n",
    "index = 0\n",
    "for dir in os.listdir(trainPath):\n",
    "    filePaths = []\n",
    "    subDir = os.path.join(trainPath, dir)\n",
    "    for file in os.listdir(subDir):\n",
    "        imgFullPath = os.path.join(subDir, file)\n",
    "        filePaths.append(imgFullPath)\n",
    "        img = Image.open(imgFullPath)\n",
    "        x = img.resize(dim)\n",
    "        x = np.array(x)\n",
    "        trainData.append(np.array(x))\n",
    "        trainLabel.append(enc.transform([[index]]).toarray())\n",
    "    print(names(index))\n",
    "    print(str(dir))\n",
    "    index += 1\n",
    "    \n",
    "trainData = np.array(trainData)\n",
    "trainLabel = np.array(trainLabel).reshape(2870, 4)\n",
    "print(trainData.shape)\n",
    "print(trainLabel.shape)"
   ]
  },
  {
   "cell_type": "code",
   "execution_count": null,
   "metadata": {},
   "outputs": [],
   "source": [
    "testData = []\n",
    "testLabel = []\n",
    "dim = (150, 150)\n",
    "testPath = (r\"C:\\Users\\st-am\\OneDrive\\Documents\\Data analytics\\CNN_cancer\\Testing\")\n",
    "index = 0\n",
    "for dir in os.listdir(testPath):\n",
    "    filePaths = []\n",
    "    subDir = os.path.join(testPath, dir)\n",
    "    for file in os.listdir(subDir):\n",
    "        imgFullPath = os.path.join(subDir, file)\n",
    "        filePaths.append(imgFullPath)\n",
    "        img = Image.open(imgFullPath)\n",
    "        x = img.resize(dim)\n",
    "        x = np.array(x)\n",
    "        testData.append(np.array(x))\n",
    "        testLabel.append(enc.transform([[index]]).toarray())\n",
    "    print(names(index))\n",
    "    print(str(dir))\n",
    "    index += 1\n",
    "testData = np.array(testData)\n",
    "testLabel = np.array(testLabel).reshape(394, 4)\n",
    "print(testData.shape)\n",
    "print(testLabel.shape)"
   ]
  },
  {
   "cell_type": "code",
   "execution_count": null,
   "metadata": {},
   "outputs": [],
   "source": [
    "model = Sequential()\n",
    "\n",
    "model.add(Conv2D(32, (3, 3), input_shape=(150,150,3), use_bias=False))\n",
    "model.add(Activation('relu'))\n",
    "model.add(MaxPooling2D(pool_size=(2, 2)))\n",
    "model.add(Conv2D(32, (3, 3))) \n",
    "model.add(Activation('relu'))\n",
    "model.add(BatchNormalization())\n",
    "model.add(MaxPooling2D(pool_size=(2, 2)))\n",
    "model.add(Dropout(0.25))\n",
    "model.add(Flatten())\n",
    "model.add(Dense(64))\n",
    "model.add(Activation('relu'))\n",
    "model.add(Dropout(0.25))\n",
    "model.add(Dense(4))\n",
    "model.add(Activation('softmax'))\n",
    "\n",
    "model.compile(loss = \"categorical_crossentropy\", optimizer=keras.optimizers.Adam(learning_rate=0.001), metrics=['accuracy'])"
   ]
  },
  {
   "cell_type": "code",
   "execution_count": null,
   "metadata": {},
   "outputs": [],
   "source": [
    "history = model.fit(trainData, trainLabel,batch_size = 128, epochs = 30 ,validation_data=(testData, testLabel))"
   ]
  },
  {
   "cell_type": "code",
   "execution_count": null,
   "metadata": {},
   "outputs": [],
   "source": [
    "#SAVE MODEL\n",
    "model.save('model_final.h5')"
   ]
  }
 ],
 "metadata": {
  "kernelspec": {
   "display_name": "Python 3",
   "language": "python",
   "name": "python3"
  },
  "language_info": {
   "codemirror_mode": {
    "name": "ipython",
    "version": 3
   },
   "file_extension": ".py",
   "mimetype": "text/x-python",
   "name": "python",
   "nbconvert_exporter": "python",
   "pygments_lexer": "ipython3",
   "version": "3.7.6"
  }
 },
 "nbformat": 4,
 "nbformat_minor": 4
}
